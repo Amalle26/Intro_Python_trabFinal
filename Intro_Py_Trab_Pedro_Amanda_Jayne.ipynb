{
  "nbformat": 4,
  "nbformat_minor": 0,
  "metadata": {
    "colab": {
      "provenance": [],
      "include_colab_link": true
    },
    "kernelspec": {
      "name": "python3",
      "display_name": "Python 3"
    },
    "language_info": {
      "name": "python"
    }
  },
  "cells": [
    {
      "cell_type": "markdown",
      "metadata": {
        "id": "view-in-github",
        "colab_type": "text"
      },
      "source": [
        "<a href=\"https://colab.research.google.com/github/Amalle26/Intro_Python_trabFinal/blob/main/Intro_Py_Trab_Pedro_Amanda_Jayne.ipynb\" target=\"_parent\"><img src=\"https://colab.research.google.com/assets/colab-badge.svg\" alt=\"Open In Colab\"/></a>"
      ]
    },
    {
      "cell_type": "markdown",
      "source": [
        "#TRABALHO INTRODUÇÃO A PYTHON\n",
        "\n",
        "Roteiro Refinado para Análise de Dados do Dataset de Avaliação de Filme\n",
        "\n",
        "teste novamente do github\n",
        "\n",
        "\n",
        "## 1.\tEntendimento e Preparação Inicial do Conjunto de Dados\n",
        "\n",
        "1.1.\tRemoção de Valores Duplicados\n",
        "\n",
        "1.1.1.\tEliminar instâncias com valores duplicados na coluna 'title'\n",
        "\n",
        "1.2.\tRemoção de Valores Nulos\n",
        "\n",
        "1.2.1.\tEliminar instâncias com valores nulos de coluns críticas\n",
        "\n",
        "\n",
        "##2.\tAvaliação Manual dos Valores\n",
        "\n",
        "2.1.\tDownload e Exploração Inicial no Excel\n",
        "\n",
        "2.1.1.\tBaixar o dataset em formato Excel para verificações manuais iniciai\n",
        "\n",
        "2.2 Verificação Manual dos Tipos de Features e do Saneamento dos Valores\n",
        "\n",
        "2.2.1 Tipos de Features\n",
        "\n",
        "2.2.2 Verificação dos Tipos de Features (variáveis)\n",
        "\n",
        "2.1.3. Confirmação e Ajuste dos Tipos de Valores\n",
        "\n",
        "\n",
        "##3.\tAnálise Exploratória Inicial\n",
        "\n",
        "3.1.\tEstatísticas Descritivas e Visualizações Iniciais das Features Numericas\n",
        "\n",
        "3.1.1.\tApresentar estatísticas descritivas e gráficos correspondentes\n",
        "\n",
        "3.2.\tExploração de Features Categóricas e Textuais\n",
        "\n",
        "3.2.1.\tAnalisar categorias e realizar análise de texto, com visualizações correspondentes\n",
        "\n",
        "3.3.\tAnálise de Distribuição com Visualizações\n",
        "\n",
        "3.3.1.\tHistogramas, gráficos de barras e boxplots para variáveis numéricas e categóricas, apresentados imediatamente após a análise\n",
        "\n",
        "\n",
        "##4.\tVisualização de Dados e Análise de Relações\n",
        "\n",
        "4.1.\tCriação de Novas Colunas a partir de Dados Categóricos Estruturados\n",
        "\n",
        "4.1.1.\tExtrair novos valores das colunas 'synopsis', 'info', 'actor_url', 'actor_name', 'actor_char' que possam ter relação com os escores\n",
        "\n",
        "4.2.\tGráficos de Dispersão e Heatmaps de Correlação\n",
        "\n",
        "4.2.1.\tUtilizar gráficos de dispersão para explorar relações entre variáveis numéricas e heatmaps para visualizar correlações\n",
        "\n",
        "4.3.\tAgrupamento e Análise por Subconjuntos\n",
        "\n",
        "4.3.1.\tAnálise de subconjuntos de dados com visualizações específicas para cada agrupamento\n",
        "\n",
        "\n",
        "##5.\tAnálise de Correlação\n",
        "\n",
        "5.1.\tCorrelação Detalhada entre Variáveis\n",
        "\n",
        "5.1.1.\tFocar em identificar e interpretar correlações entre 'tomatometerscore', 'audiencescore' e novas variáveis derivadas\n",
        "\n",
        "\n",
        "##6.\tConclusões e Próximos Passos\n",
        "\n",
        "6.1.\tInterpretação Integrada dos Resultados\n",
        "\n",
        "6.1.1.\tCombinar insights de todas as etapas para formular conclusões abrangentes\n",
        "\n",
        "6.2.\tLimitações e Sugestões para Futuras Análises\n",
        "\n",
        "6.2.1.\tDiscutir limitações da análise atual e propor direções para futuras pesquisas\n"
      ],
      "metadata": {
        "id": "BjPfpH7VAVIZ"
      }
    },
    {
      "cell_type": "markdown",
      "source": [
        "# Introdução ao Python\n",
        "\n",
        "Prof. Erik Zarko<br>\n",
        "MBA em Ciência de Dados<br>\n",
        "\n",
        "\n",
        "Universidade de Fortaleza"
      ],
      "metadata": {
        "id": "ZHVwK3pa8RZa"
      }
    },
    {
      "cell_type": "markdown",
      "metadata": {
        "id": "i0IKnR3JOlE5"
      },
      "source": [
        "# Projeto: Análise dados do Rotten Tomatoes\n",
        "\n",
        "<img src=\"https://drive.google.com/uc?export=view&id=1bJAizobpAC2_jEROlPR8X2MufU3v8-cu\"  width=\"600\" height=\"400\">\n",
        "\n",
        "Pergunta norteadora:\n",
        "\n",
        "# \"Será que existe alguma relação entre a nota do filme e os seus dados?\"\n",
        "\n",
        "https://www.rottentomatoes.com/about#whatisthetomatometer"
      ]
    },
    {
      "cell_type": "code",
      "source": [
        "!gdown 1VGB5ANovGJQG2ko4_anIjvnVnd7fEN7d"
      ],
      "metadata": {
        "colab": {
          "base_uri": "https://localhost:8080/"
        },
        "outputId": "fbf699cd-80c4-438c-f9e8-44e693906099",
        "id": "ritzsQJvOlE5"
      },
      "execution_count": null,
      "outputs": [
        {
          "output_type": "stream",
          "name": "stdout",
          "text": [
            "Downloading...\n",
            "From: https://drive.google.com/uc?id=1VGB5ANovGJQG2ko4_anIjvnVnd7fEN7d\n",
            "To: /content/rotten_tomatoes.zip\n",
            "100% 18.4M/18.4M [00:00<00:00, 78.5MB/s]\n"
          ]
        }
      ]
    },
    {
      "cell_type": "code",
      "source": [
        "import pandas as pd\n",
        "\n",
        "df = pd.read_csv('rotten_tomatoes.zip', compression = 'zip')\n",
        "df.head()"
      ],
      "metadata": {
        "colab": {
          "base_uri": "https://localhost:8080/",
          "height": 642
        },
        "outputId": "b63610db-eb36-43d2-e2ec-d05ae3139187",
        "id": "vLdPYnU_OlE6"
      },
      "execution_count": null,
      "outputs": [
        {
          "output_type": "execute_result",
          "data": {
            "text/plain": [
              "         modality   genre                                                url  \\\n",
              "0  movies_at_home  action  https://www.rottentomatoes.com/m/come_out_figh...   \n",
              "1  movies_at_home  action               https://www.rottentomatoes.com/m/aka   \n",
              "2  movies_at_home  action    https://www.rottentomatoes.com/m/the_woman_king   \n",
              "3  movies_at_home  action         https://www.rottentomatoes.com/m/sisu_2022   \n",
              "4  movies_at_home  action    https://www.rottentomatoes.com/m/polite_society   \n",
              "\n",
              "  mined              title  tomatometerscore tomatometerstate  audiencescore  \\\n",
              "0     T  COME OUT FIGHTING               NaN              NaN            NaN   \n",
              "1     T                AKA              78.0            fresh           79.0   \n",
              "2     T     THE WOMAN KING              94.0  certified-fresh           99.0   \n",
              "3     T               SISU              94.0  certified-fresh           88.0   \n",
              "4     T     POLITE SOCIETY              91.0  certified-fresh           84.0   \n",
              "\n",
              "  audiencestate                                           synopsis  \\\n",
              "0           NaN  Set during WWII, in this military adventure, a...   \n",
              "1       upright  In this intense action thriller, a special ops...   \n",
              "2       upright  The Woman King is the remarkable story of the ...   \n",
              "3       upright  During the last desperate days of WWII, a soli...   \n",
              "4       upright  A merry mash-up of sisterly affection, parenta...   \n",
              "\n",
              "                                                info  \\\n",
              "0  Genre: War, Action\\n\\nOriginal Language: Engli...   \n",
              "1  Genre: Action, Mystery & thriller, Crime, Dram...   \n",
              "2  Rating: PG-13 (Partial Nudity|Brief Language|S...   \n",
              "3  Rating: R (Strong Bloody Violence|Language|Gor...   \n",
              "4  Rating: PG-13 (Strong Language|Some Partial Nu...   \n",
              "\n",
              "                                           actor_url  \\\n",
              "0  ['https://www.rottentomatoes.com/celebrity/kel...   \n",
              "1  ['https://www.rottentomatoes.com/celebrity/alb...   \n",
              "2  ['https://www.rottentomatoes.com/celebrity/vio...   \n",
              "3  ['https://www.rottentomatoes.com/celebrity/jor...   \n",
              "4  ['https://www.rottentomatoes.com/celebrity/pri...   \n",
              "\n",
              "                                          actor_name  \\\n",
              "0  ['Kellan Lutz', 'Hiram A. Murray', 'Dolph Lund...   \n",
              "1  ['Alban Lenoir', 'Éric Cantona', 'Thibault de ...   \n",
              "2  ['Viola Davis', 'Thuso Mbedu', 'Lashana Lynch'...   \n",
              "3  ['Jorma Tommila', 'Aksel Hennie', 'Jack Doolan...   \n",
              "4  ['Priya Kansara', 'Ritu Arya', 'Shobu Kapoor',...   \n",
              "\n",
              "                                          actor_char  \n",
              "0  ['Lieutenant Frank Ross', 'Lieutenant Robert A...  \n",
              "1  ['Adam Franco', '', '', '', '', 'Jonathan', '\\...  \n",
              "2  ['Nanisca', 'Nawi', 'Izogie', 'Amenza', 'Santo...  \n",
              "3  ['Aatami', 'Bruno', 'Wolf', 'Aino', 'Schütze',...  \n",
              "4  ['Ria', 'Lena', 'Fatima', 'Alba', 'Clara', 'Ko...  "
            ],
            "text/html": [
              "\n",
              "  <div id=\"df-10544c9a-3cc9-4974-a3ea-16f80449718f\" class=\"colab-df-container\">\n",
              "    <div>\n",
              "<style scoped>\n",
              "    .dataframe tbody tr th:only-of-type {\n",
              "        vertical-align: middle;\n",
              "    }\n",
              "\n",
              "    .dataframe tbody tr th {\n",
              "        vertical-align: top;\n",
              "    }\n",
              "\n",
              "    .dataframe thead th {\n",
              "        text-align: right;\n",
              "    }\n",
              "</style>\n",
              "<table border=\"1\" class=\"dataframe\">\n",
              "  <thead>\n",
              "    <tr style=\"text-align: right;\">\n",
              "      <th></th>\n",
              "      <th>modality</th>\n",
              "      <th>genre</th>\n",
              "      <th>url</th>\n",
              "      <th>mined</th>\n",
              "      <th>title</th>\n",
              "      <th>tomatometerscore</th>\n",
              "      <th>tomatometerstate</th>\n",
              "      <th>audiencescore</th>\n",
              "      <th>audiencestate</th>\n",
              "      <th>synopsis</th>\n",
              "      <th>info</th>\n",
              "      <th>actor_url</th>\n",
              "      <th>actor_name</th>\n",
              "      <th>actor_char</th>\n",
              "    </tr>\n",
              "  </thead>\n",
              "  <tbody>\n",
              "    <tr>\n",
              "      <th>0</th>\n",
              "      <td>movies_at_home</td>\n",
              "      <td>action</td>\n",
              "      <td>https://www.rottentomatoes.com/m/come_out_figh...</td>\n",
              "      <td>T</td>\n",
              "      <td>COME OUT FIGHTING</td>\n",
              "      <td>NaN</td>\n",
              "      <td>NaN</td>\n",
              "      <td>NaN</td>\n",
              "      <td>NaN</td>\n",
              "      <td>Set during WWII, in this military adventure, a...</td>\n",
              "      <td>Genre: War, Action\\n\\nOriginal Language: Engli...</td>\n",
              "      <td>['https://www.rottentomatoes.com/celebrity/kel...</td>\n",
              "      <td>['Kellan Lutz', 'Hiram A. Murray', 'Dolph Lund...</td>\n",
              "      <td>['Lieutenant Frank Ross', 'Lieutenant Robert A...</td>\n",
              "    </tr>\n",
              "    <tr>\n",
              "      <th>1</th>\n",
              "      <td>movies_at_home</td>\n",
              "      <td>action</td>\n",
              "      <td>https://www.rottentomatoes.com/m/aka</td>\n",
              "      <td>T</td>\n",
              "      <td>AKA</td>\n",
              "      <td>78.0</td>\n",
              "      <td>fresh</td>\n",
              "      <td>79.0</td>\n",
              "      <td>upright</td>\n",
              "      <td>In this intense action thriller, a special ops...</td>\n",
              "      <td>Genre: Action, Mystery &amp; thriller, Crime, Dram...</td>\n",
              "      <td>['https://www.rottentomatoes.com/celebrity/alb...</td>\n",
              "      <td>['Alban Lenoir', 'Éric Cantona', 'Thibault de ...</td>\n",
              "      <td>['Adam Franco', '', '', '', '', 'Jonathan', '\\...</td>\n",
              "    </tr>\n",
              "    <tr>\n",
              "      <th>2</th>\n",
              "      <td>movies_at_home</td>\n",
              "      <td>action</td>\n",
              "      <td>https://www.rottentomatoes.com/m/the_woman_king</td>\n",
              "      <td>T</td>\n",
              "      <td>THE WOMAN KING</td>\n",
              "      <td>94.0</td>\n",
              "      <td>certified-fresh</td>\n",
              "      <td>99.0</td>\n",
              "      <td>upright</td>\n",
              "      <td>The Woman King is the remarkable story of the ...</td>\n",
              "      <td>Rating: PG-13 (Partial Nudity|Brief Language|S...</td>\n",
              "      <td>['https://www.rottentomatoes.com/celebrity/vio...</td>\n",
              "      <td>['Viola Davis', 'Thuso Mbedu', 'Lashana Lynch'...</td>\n",
              "      <td>['Nanisca', 'Nawi', 'Izogie', 'Amenza', 'Santo...</td>\n",
              "    </tr>\n",
              "    <tr>\n",
              "      <th>3</th>\n",
              "      <td>movies_at_home</td>\n",
              "      <td>action</td>\n",
              "      <td>https://www.rottentomatoes.com/m/sisu_2022</td>\n",
              "      <td>T</td>\n",
              "      <td>SISU</td>\n",
              "      <td>94.0</td>\n",
              "      <td>certified-fresh</td>\n",
              "      <td>88.0</td>\n",
              "      <td>upright</td>\n",
              "      <td>During the last desperate days of WWII, a soli...</td>\n",
              "      <td>Rating: R (Strong Bloody Violence|Language|Gor...</td>\n",
              "      <td>['https://www.rottentomatoes.com/celebrity/jor...</td>\n",
              "      <td>['Jorma Tommila', 'Aksel Hennie', 'Jack Doolan...</td>\n",
              "      <td>['Aatami', 'Bruno', 'Wolf', 'Aino', 'Schütze',...</td>\n",
              "    </tr>\n",
              "    <tr>\n",
              "      <th>4</th>\n",
              "      <td>movies_at_home</td>\n",
              "      <td>action</td>\n",
              "      <td>https://www.rottentomatoes.com/m/polite_society</td>\n",
              "      <td>T</td>\n",
              "      <td>POLITE SOCIETY</td>\n",
              "      <td>91.0</td>\n",
              "      <td>certified-fresh</td>\n",
              "      <td>84.0</td>\n",
              "      <td>upright</td>\n",
              "      <td>A merry mash-up of sisterly affection, parenta...</td>\n",
              "      <td>Rating: PG-13 (Strong Language|Some Partial Nu...</td>\n",
              "      <td>['https://www.rottentomatoes.com/celebrity/pri...</td>\n",
              "      <td>['Priya Kansara', 'Ritu Arya', 'Shobu Kapoor',...</td>\n",
              "      <td>['Ria', 'Lena', 'Fatima', 'Alba', 'Clara', 'Ko...</td>\n",
              "    </tr>\n",
              "  </tbody>\n",
              "</table>\n",
              "</div>\n",
              "    <div class=\"colab-df-buttons\">\n",
              "\n",
              "  <div class=\"colab-df-container\">\n",
              "    <button class=\"colab-df-convert\" onclick=\"convertToInteractive('df-10544c9a-3cc9-4974-a3ea-16f80449718f')\"\n",
              "            title=\"Convert this dataframe to an interactive table.\"\n",
              "            style=\"display:none;\">\n",
              "\n",
              "  <svg xmlns=\"http://www.w3.org/2000/svg\" height=\"24px\" viewBox=\"0 -960 960 960\">\n",
              "    <path d=\"M120-120v-720h720v720H120Zm60-500h600v-160H180v160Zm220 220h160v-160H400v160Zm0 220h160v-160H400v160ZM180-400h160v-160H180v160Zm440 0h160v-160H620v160ZM180-180h160v-160H180v160Zm440 0h160v-160H620v160Z\"/>\n",
              "  </svg>\n",
              "    </button>\n",
              "\n",
              "  <style>\n",
              "    .colab-df-container {\n",
              "      display:flex;\n",
              "      gap: 12px;\n",
              "    }\n",
              "\n",
              "    .colab-df-convert {\n",
              "      background-color: #E8F0FE;\n",
              "      border: none;\n",
              "      border-radius: 50%;\n",
              "      cursor: pointer;\n",
              "      display: none;\n",
              "      fill: #1967D2;\n",
              "      height: 32px;\n",
              "      padding: 0 0 0 0;\n",
              "      width: 32px;\n",
              "    }\n",
              "\n",
              "    .colab-df-convert:hover {\n",
              "      background-color: #E2EBFA;\n",
              "      box-shadow: 0px 1px 2px rgba(60, 64, 67, 0.3), 0px 1px 3px 1px rgba(60, 64, 67, 0.15);\n",
              "      fill: #174EA6;\n",
              "    }\n",
              "\n",
              "    .colab-df-buttons div {\n",
              "      margin-bottom: 4px;\n",
              "    }\n",
              "\n",
              "    [theme=dark] .colab-df-convert {\n",
              "      background-color: #3B4455;\n",
              "      fill: #D2E3FC;\n",
              "    }\n",
              "\n",
              "    [theme=dark] .colab-df-convert:hover {\n",
              "      background-color: #434B5C;\n",
              "      box-shadow: 0px 1px 3px 1px rgba(0, 0, 0, 0.15);\n",
              "      filter: drop-shadow(0px 1px 2px rgba(0, 0, 0, 0.3));\n",
              "      fill: #FFFFFF;\n",
              "    }\n",
              "  </style>\n",
              "\n",
              "    <script>\n",
              "      const buttonEl =\n",
              "        document.querySelector('#df-10544c9a-3cc9-4974-a3ea-16f80449718f button.colab-df-convert');\n",
              "      buttonEl.style.display =\n",
              "        google.colab.kernel.accessAllowed ? 'block' : 'none';\n",
              "\n",
              "      async function convertToInteractive(key) {\n",
              "        const element = document.querySelector('#df-10544c9a-3cc9-4974-a3ea-16f80449718f');\n",
              "        const dataTable =\n",
              "          await google.colab.kernel.invokeFunction('convertToInteractive',\n",
              "                                                    [key], {});\n",
              "        if (!dataTable) return;\n",
              "\n",
              "        const docLinkHtml = 'Like what you see? Visit the ' +\n",
              "          '<a target=\"_blank\" href=https://colab.research.google.com/notebooks/data_table.ipynb>data table notebook</a>'\n",
              "          + ' to learn more about interactive tables.';\n",
              "        element.innerHTML = '';\n",
              "        dataTable['output_type'] = 'display_data';\n",
              "        await google.colab.output.renderOutput(dataTable, element);\n",
              "        const docLink = document.createElement('div');\n",
              "        docLink.innerHTML = docLinkHtml;\n",
              "        element.appendChild(docLink);\n",
              "      }\n",
              "    </script>\n",
              "  </div>\n",
              "\n",
              "\n",
              "<div id=\"df-763ff7d7-fd9e-4547-ad8c-8cc46262ac25\">\n",
              "  <button class=\"colab-df-quickchart\" onclick=\"quickchart('df-763ff7d7-fd9e-4547-ad8c-8cc46262ac25')\"\n",
              "            title=\"Suggest charts\"\n",
              "            style=\"display:none;\">\n",
              "\n",
              "<svg xmlns=\"http://www.w3.org/2000/svg\" height=\"24px\"viewBox=\"0 0 24 24\"\n",
              "     width=\"24px\">\n",
              "    <g>\n",
              "        <path d=\"M19 3H5c-1.1 0-2 .9-2 2v14c0 1.1.9 2 2 2h14c1.1 0 2-.9 2-2V5c0-1.1-.9-2-2-2zM9 17H7v-7h2v7zm4 0h-2V7h2v10zm4 0h-2v-4h2v4z\"/>\n",
              "    </g>\n",
              "</svg>\n",
              "  </button>\n",
              "\n",
              "<style>\n",
              "  .colab-df-quickchart {\n",
              "      --bg-color: #E8F0FE;\n",
              "      --fill-color: #1967D2;\n",
              "      --hover-bg-color: #E2EBFA;\n",
              "      --hover-fill-color: #174EA6;\n",
              "      --disabled-fill-color: #AAA;\n",
              "      --disabled-bg-color: #DDD;\n",
              "  }\n",
              "\n",
              "  [theme=dark] .colab-df-quickchart {\n",
              "      --bg-color: #3B4455;\n",
              "      --fill-color: #D2E3FC;\n",
              "      --hover-bg-color: #434B5C;\n",
              "      --hover-fill-color: #FFFFFF;\n",
              "      --disabled-bg-color: #3B4455;\n",
              "      --disabled-fill-color: #666;\n",
              "  }\n",
              "\n",
              "  .colab-df-quickchart {\n",
              "    background-color: var(--bg-color);\n",
              "    border: none;\n",
              "    border-radius: 50%;\n",
              "    cursor: pointer;\n",
              "    display: none;\n",
              "    fill: var(--fill-color);\n",
              "    height: 32px;\n",
              "    padding: 0;\n",
              "    width: 32px;\n",
              "  }\n",
              "\n",
              "  .colab-df-quickchart:hover {\n",
              "    background-color: var(--hover-bg-color);\n",
              "    box-shadow: 0 1px 2px rgba(60, 64, 67, 0.3), 0 1px 3px 1px rgba(60, 64, 67, 0.15);\n",
              "    fill: var(--button-hover-fill-color);\n",
              "  }\n",
              "\n",
              "  .colab-df-quickchart-complete:disabled,\n",
              "  .colab-df-quickchart-complete:disabled:hover {\n",
              "    background-color: var(--disabled-bg-color);\n",
              "    fill: var(--disabled-fill-color);\n",
              "    box-shadow: none;\n",
              "  }\n",
              "\n",
              "  .colab-df-spinner {\n",
              "    border: 2px solid var(--fill-color);\n",
              "    border-color: transparent;\n",
              "    border-bottom-color: var(--fill-color);\n",
              "    animation:\n",
              "      spin 1s steps(1) infinite;\n",
              "  }\n",
              "\n",
              "  @keyframes spin {\n",
              "    0% {\n",
              "      border-color: transparent;\n",
              "      border-bottom-color: var(--fill-color);\n",
              "      border-left-color: var(--fill-color);\n",
              "    }\n",
              "    20% {\n",
              "      border-color: transparent;\n",
              "      border-left-color: var(--fill-color);\n",
              "      border-top-color: var(--fill-color);\n",
              "    }\n",
              "    30% {\n",
              "      border-color: transparent;\n",
              "      border-left-color: var(--fill-color);\n",
              "      border-top-color: var(--fill-color);\n",
              "      border-right-color: var(--fill-color);\n",
              "    }\n",
              "    40% {\n",
              "      border-color: transparent;\n",
              "      border-right-color: var(--fill-color);\n",
              "      border-top-color: var(--fill-color);\n",
              "    }\n",
              "    60% {\n",
              "      border-color: transparent;\n",
              "      border-right-color: var(--fill-color);\n",
              "    }\n",
              "    80% {\n",
              "      border-color: transparent;\n",
              "      border-right-color: var(--fill-color);\n",
              "      border-bottom-color: var(--fill-color);\n",
              "    }\n",
              "    90% {\n",
              "      border-color: transparent;\n",
              "      border-bottom-color: var(--fill-color);\n",
              "    }\n",
              "  }\n",
              "</style>\n",
              "\n",
              "  <script>\n",
              "    async function quickchart(key) {\n",
              "      const quickchartButtonEl =\n",
              "        document.querySelector('#' + key + ' button');\n",
              "      quickchartButtonEl.disabled = true;  // To prevent multiple clicks.\n",
              "      quickchartButtonEl.classList.add('colab-df-spinner');\n",
              "      try {\n",
              "        const charts = await google.colab.kernel.invokeFunction(\n",
              "            'suggestCharts', [key], {});\n",
              "      } catch (error) {\n",
              "        console.error('Error during call to suggestCharts:', error);\n",
              "      }\n",
              "      quickchartButtonEl.classList.remove('colab-df-spinner');\n",
              "      quickchartButtonEl.classList.add('colab-df-quickchart-complete');\n",
              "    }\n",
              "    (() => {\n",
              "      let quickchartButtonEl =\n",
              "        document.querySelector('#df-763ff7d7-fd9e-4547-ad8c-8cc46262ac25 button');\n",
              "      quickchartButtonEl.style.display =\n",
              "        google.colab.kernel.accessAllowed ? 'block' : 'none';\n",
              "    })();\n",
              "  </script>\n",
              "</div>\n",
              "    </div>\n",
              "  </div>\n"
            ]
          },
          "metadata": {},
          "execution_count": 70
        }
      ]
    },
    {
      "cell_type": "code",
      "source": [
        "df.info()"
      ],
      "metadata": {
        "colab": {
          "base_uri": "https://localhost:8080/"
        },
        "outputId": "a0df2fa2-9cdf-4f5d-e18c-4d09ed044a9b",
        "id": "ZEvpLGYMOlE6"
      },
      "execution_count": null,
      "outputs": [
        {
          "output_type": "stream",
          "name": "stdout",
          "text": [
            "<class 'pandas.core.frame.DataFrame'>\n",
            "RangeIndex: 20938 entries, 0 to 20937\n",
            "Data columns (total 14 columns):\n",
            " #   Column            Non-Null Count  Dtype  \n",
            "---  ------            --------------  -----  \n",
            " 0   modality          20938 non-null  object \n",
            " 1   genre             20938 non-null  object \n",
            " 2   url               20938 non-null  object \n",
            " 3   mined             20938 non-null  object \n",
            " 4   title             20890 non-null  object \n",
            " 5   tomatometerscore  17866 non-null  float64\n",
            " 6   tomatometerstate  17984 non-null  object \n",
            " 7   audiencescore     19914 non-null  float64\n",
            " 8   audiencestate     19939 non-null  object \n",
            " 9   synopsis          20685 non-null  object \n",
            " 10  info              20887 non-null  object \n",
            " 11  actor_url         20890 non-null  object \n",
            " 12  actor_name        20938 non-null  object \n",
            " 13  actor_char        20938 non-null  object \n",
            "dtypes: float64(2), object(12)\n",
            "memory usage: 2.2+ MB\n"
          ]
        }
      ]
    },
    {
      "cell_type": "code",
      "source": [
        "## ATENÇÃO => COLOCAR ESSA IMPORTAÇÃO NA PRIMEIRA CESSÃO DO TRABALHO\n",
        "\n",
        "# openpyxl é um pacote necessário para escrever arquivos Excel com o Pandas.\n",
        "!pip install openpyxl\n",
        "\n",
        "\n",
        "#A biblioteca matplotlib.pyplot, frequentemente importada como plt,\n",
        "# é uma coleção de funções que tornam o Matplotlib semelhante ao MATLAB.\n",
        "# Ela proporciona uma interface de alto nível para desenhar gráficos estatísticos,\n",
        "# permitindo a criação de uma ampla variedade de figuras estáticas, animadas e interativas.\n",
        "# plt é usada para plotar gráficos, personalizar elementos de gráficos, e gerenciar o layout de múltiplas parcelas.\n",
        "import matplotlib.pyplot as plt\n"
      ],
      "metadata": {
        "colab": {
          "base_uri": "https://localhost:8080/"
        },
        "id": "ajd_h6TcOMzH",
        "outputId": "0a4784b6-1530-4bde-f3ec-db0e24f48bdb"
      },
      "execution_count": null,
      "outputs": [
        {
          "output_type": "stream",
          "name": "stdout",
          "text": [
            "Requirement already satisfied: openpyxl in /usr/local/lib/python3.10/dist-packages (3.1.2)\n",
            "Requirement already satisfied: et-xmlfile in /usr/local/lib/python3.10/dist-packages (from openpyxl) (1.1.0)\n"
          ]
        }
      ]
    },
    {
      "cell_type": "markdown",
      "source": [
        "# 1. Entendimento e Preparação Inicial do Conjunto de Dados"
      ],
      "metadata": {
        "id": "5ojYsTthW6NV"
      }
    },
    {
      "cell_type": "markdown",
      "source": [
        "## 1.1 Remoção de Valores Duplicado\n",
        "\n",
        "### 1.1.1\tEliminar linhas com valores duplicados na coluna 'title'\n",
        "\n",
        "Neste passo do processo de ETL (Extração, Transformação e Carregamento), trata-se especificamente a questão de duplicatas no DataFrame. A decisão de remover linhas duplicadas baseia-se na coluna \"title\", que representa o título dos filmes. A exclusão de duplicatas é crucial por várias razões:\n",
        "\n",
        "1. Unicidade dos Dados: Em muitas análises, especialmente no contexto de filmes, cada título deve representar uma única entrada no conjunto de dados. Duplicatas podem levar a análises distorcidas, como a contagem duplicada de filmes ou a análise repetida dos mesmos dados.\n",
        "\n",
        "2. Precisão nas Métricas: A presença de duplicatas pode afetar a precisão de métricas estatísticas, como médias, medianas e modas, pois os dados repetidos influenciam esses cálculos.\n",
        "\n",
        "3. Eficiência na Análise: Remover duplicatas torna o dataset mais enxuto e gerenciável, o que pode melhorar a eficiência do processamento e da análise dos dados.\n",
        "\n",
        "O método utilizado é o 'drop_duplicates()' com o argumento 'subset', especificando a coluna \"title\". Isso garante que apenas as linhas com títulos únicos sejam mantidas, removendo quaisquer entradas adicionais que tenham o mesmo título.\n",
        "\n",
        "Este é um passo fundamental para garantir a integridade e a confiabilidade dos dados antes de prosseguirmos com análises mais detalhadas."
      ],
      "metadata": {
        "id": "6xUxW14tXvfg"
      }
    },
    {
      "cell_type": "code",
      "source": [
        "df_clean = df.drop_duplicates(subset='title')\n",
        "print(df_clean.shape)\n"
      ],
      "metadata": {
        "colab": {
          "base_uri": "https://localhost:8080/"
        },
        "id": "Kx7hoTt-fBFP",
        "outputId": "fa91916c-ca6a-41cb-d737-0ec99bd1164b"
      },
      "execution_count": null,
      "outputs": [
        {
          "output_type": "stream",
          "name": "stdout",
          "text": [
            "(3337, 14)\n"
          ]
        }
      ]
    },
    {
      "cell_type": "markdown",
      "source": [
        "###1.1.2.\tEliminar linhas com valores nulos em colunas revalntes\n",
        "\n",
        "Neste trecho, realizou-se uma limpeza seletiva dos dados no DataFrame. O objetivo é remover as linhas que contêm valores nulos em colunas específicas que são cruciais para a nossa análise, mantendo as linhas que possuem valores nulos em colunas menos relevantes.\n",
        "\n",
        "As colunas 'url', 'actor_url' e 'mined' foram identificadas como menos críticas para a análise proposta. Portanto, valores nulos nessas colunas não justificam a exclusão de uma linha inteira do DataFrame.\n",
        "\n",
        "Criou-se, pois, uma lista chamada 'colunas_relevantes', que contém todas as colunas do DataFrame, exceto as colunas 'url', 'actor_url' e 'mined'. Em seguida, aplicou-se o método 'dropna()' com o argumento 'subset', passando a lista 'colunas_relevantes'.\n",
        "\n",
        "Isso resulta na remoção de linhas que têm valores nulos em qualquer uma das colunas relevantes, enquanto preserva as linhas que têm valores nulos apenas nas colunas 'url', 'actor_url' e 'mined'.\n",
        "\n",
        "Esta abordagem permite uma limpeza de dados mais focada, evitando a perda desnecessária de informações que podem ser valiosas para a análise, e ao mesmo tempo assegura a integridade dos dados nas colunas que são essenciais para os objetivos da nossa pesquisa.\n",
        "\n"
      ],
      "metadata": {
        "id": "PsyH_x1XfkOV"
      }
    },
    {
      "cell_type": "code",
      "source": [
        "# Lista de colunas a considerar para valores nulos\n",
        "colunas_relevantes = [col for col in df.columns if col not in ['url', 'actor_url', 'mined']]\n",
        "\n",
        "# Removendo linhas com valores nulos nas colunas relevantes\n",
        "df_clean = df_clean.dropna(subset=colunas_relevantes)\n",
        "\n",
        "# Verificando o novo tamanho do DataFrame\n",
        "print(df_clean.shape)\n"
      ],
      "metadata": {
        "colab": {
          "base_uri": "https://localhost:8080/"
        },
        "id": "Ef0Fhgm5d2tJ",
        "outputId": "48bcf2cd-f0d1-4c50-c0be-5917d7e67882"
      },
      "execution_count": null,
      "outputs": [
        {
          "output_type": "stream",
          "name": "stdout",
          "text": [
            "(2608, 14)\n"
          ]
        }
      ]
    },
    {
      "cell_type": "markdown",
      "source": [
        "##2.\tAvaliação Manual dos Dados\n",
        "\n"
      ],
      "metadata": {
        "id": "XQyZDDzJXGy6"
      }
    },
    {
      "cell_type": "markdown",
      "source": [
        "## 2.1.\tDownload e Exploração Inicial no Excel:\n",
        "\n",
        "### 2.1.1.\tBaixar o dataset em formato Excel para verificações manuais iniciais.\n",
        "\n",
        "Nesse ponto, firmou-se que, para um entendimento mais claro dos tipos de dados categóricos existêntes no dataset, havia a necessidade de se o baixar em arquivo Excel e fazer verificações iniciais manuais."
      ],
      "metadata": {
        "id": "qgk1bSEtKmVc"
      }
    },
    {
      "cell_type": "code",
      "source": [
        "# Para salvar o df.clean em arquivo Excel utiliza-se o método \"to_excel()\", especificando o nome do arquivo.\n",
        "# IMPORTANTE: o argumento index=False é usado para não incluir o índice do DataFrame no arquivo Excel, a bem da limpeza dos dados a serem exportados.\n",
        "df_clean.to_excel('df_clean.xlsx', index=False)\n",
        "\n",
        "# Para baixar o df.clean em arquivo Excel utiliza-se o seguinte código, especificando o nome do arquivo.\n",
        "from google.colab import files\n",
        "files.download('df_clean.xlsx')\n"
      ],
      "metadata": {
        "colab": {
          "base_uri": "https://localhost:8080/",
          "height": 17
        },
        "id": "1PIb-Dj57QT3",
        "outputId": "86c79c7f-2231-493c-fbbc-35ad05970e3c"
      },
      "execution_count": null,
      "outputs": [
        {
          "output_type": "display_data",
          "data": {
            "text/plain": [
              "<IPython.core.display.Javascript object>"
            ],
            "application/javascript": [
              "\n",
              "    async function download(id, filename, size) {\n",
              "      if (!google.colab.kernel.accessAllowed) {\n",
              "        return;\n",
              "      }\n",
              "      const div = document.createElement('div');\n",
              "      const label = document.createElement('label');\n",
              "      label.textContent = `Downloading \"${filename}\": `;\n",
              "      div.appendChild(label);\n",
              "      const progress = document.createElement('progress');\n",
              "      progress.max = size;\n",
              "      div.appendChild(progress);\n",
              "      document.body.appendChild(div);\n",
              "\n",
              "      const buffers = [];\n",
              "      let downloaded = 0;\n",
              "\n",
              "      const channel = await google.colab.kernel.comms.open(id);\n",
              "      // Send a message to notify the kernel that we're ready.\n",
              "      channel.send({})\n",
              "\n",
              "      for await (const message of channel.messages) {\n",
              "        // Send a message to notify the kernel that we're ready.\n",
              "        channel.send({})\n",
              "        if (message.buffers) {\n",
              "          for (const buffer of message.buffers) {\n",
              "            buffers.push(buffer);\n",
              "            downloaded += buffer.byteLength;\n",
              "            progress.value = downloaded;\n",
              "          }\n",
              "        }\n",
              "      }\n",
              "      const blob = new Blob(buffers, {type: 'application/binary'});\n",
              "      const a = document.createElement('a');\n",
              "      a.href = window.URL.createObjectURL(blob);\n",
              "      a.download = filename;\n",
              "      div.appendChild(a);\n",
              "      a.click();\n",
              "      div.remove();\n",
              "    }\n",
              "  "
            ]
          },
          "metadata": {}
        },
        {
          "output_type": "display_data",
          "data": {
            "text/plain": [
              "<IPython.core.display.Javascript object>"
            ],
            "application/javascript": [
              "download(\"download_0aa41a2d-abc9-4cee-93ef-3aca7dba56c5\", \"df_clean.xlsx\", 2638068)"
            ]
          },
          "metadata": {}
        }
      ]
    },
    {
      "cell_type": "markdown",
      "source": [
        "##2.2 Verificação Manual dos Tipos de Features e do Saneamento dos Valores\n",
        "\n",
        "**2.2.1 Tipos de Features**\n",
        "\n",
        "Na análise de dados, compreende-se que diferentes tipos de variáveis requerem abordagens específicas. Variáveis são classificadas como Numéricas (Contínuas e Discretas), Ordinais, Binárias/Dicotômicas, de Intervalo, de Razão e Temporais. Cada tipo possui características e métodos de análise próprios, essenciais para a escolha de técnicas de análise e processamento de dados.\n",
        "\n",
        "Utilizando a biblioteca Pandas em Python, os tipos de dados são identificados como int, float, object, bool, datetime64, entre outros. Assim, a classificação estatística das variáveis, como categóricas ou numéricas, exige uma análise detalhada dos dados e do contexto aplicado.\n",
        "\n",
        "A seguir, será feita a verificação diretametente no dataset baixado em arquivo Excel do tipo de dado que cada feature apresenta.\n",
        "\n",
        "**2.2.2 Verificação dos Tipos de Features (variáveis)**\n",
        "\n",
        "A análise das colunas do dataset revela os seguintes tipos de variáveis:\n",
        "\n",
        "> **modality:**\n",
        "\n",
        ">> Estatística: Categórica.\n",
        "\n",
        ">> Python/Pandas: Provavelmente object ou category.\n",
        "\n",
        ">**genre:**\n",
        "\n",
        ">>Estatística: Categórica.\n",
        "\n",
        ">>Python/Pandas: Geralmente object ou category.\n",
        "\n",
        ">**url:**\n",
        "\n",
        ">>Estatística: Textual.\n",
        "\n",
        ">>Python/Pandas: object.\n",
        "\n",
        ">>**mined:**\n",
        "\n",
        ">>Estatística: Depende do conteúdo (Categórica ou Temporal).\n",
        "\n",
        ">>Python/Pandas: object ou datetime64.\n",
        "\n",
        ">**title:**\n",
        "\n",
        ">>Estatística: Textual.\n",
        "\n",
        ">>Python/Pandas: object.\n",
        "\n",
        ">**tomatometerscore:**\n",
        "\n",
        ">>Estatística: Numérica (Contínua ou Discreta).\n",
        "\n",
        ">>Python/Pandas: float64 ou int64.\n",
        "\n",
        ">**tomatometerstate:**\n",
        "\n",
        ">>Estatística: Categórica.\n",
        "\n",
        ">>Python/Pandas: object ou category.\n",
        "\n",
        ">**audiencescore:**\n",
        "\n",
        ">>Estatística: Numérica (Contínua ou Discreta).\n",
        "\n",
        ">>Python/Pandas: float64 ou int64.\n",
        "\n",
        ">**audiencestate:**\n",
        "\n",
        ">>Estatística: Categórica.\n",
        "\n",
        ">>Python/Pandas: object ou category.\n",
        "\n",
        ">**synopsis:**\n",
        "\n",
        ">>Estatística: Textual.\n",
        "\n",
        ">>Python/Pandas: object.\n",
        "\n",
        ">**info:**\n",
        "\n",
        ">>Estatística: Textual.\n",
        "\n",
        ">>Python/Pandas: object.\n",
        "\n",
        ">**actor_url:**\n",
        "\n",
        ">>Estatística: Textual.\n",
        "\n",
        ">>Python/Pandas: object.\n",
        "\n",
        ">**actor_name:**\n",
        "\n",
        ">>Estatística: Textual.\n",
        "\n",
        ">>Python/Pandas: object.\n",
        "\n",
        ">**actor_char:**\n",
        "\n",
        ">>Estatística: Textual.\n",
        "\n",
        ">>Python/Pandas: object.\n",
        "\n",
        "**2.1.3. Avaliação do Saneamento dos Valores:**\n",
        "\n",
        "**Variáveis Numéricas**: os featrues 'tomatometerscore' e 'audiencescore' estão corretamente tipadas como int64 ou float64, representando os valores apresentados em escores de maneira adequada.\n",
        "\n",
        "**Variáveis Categóricas:** as colunas 'modality', 'genre', 'mined', 'tomatometerstate' e 'audiencestate' estão tipados como object, uma vez que seus valores são do tipo categórico. Uma observação deve ser feita sobre a variável **'mined'**: seus valores apresentados unicamente pelo caractere T não perminte perscrutar a sua carga semântica, o que inviabiliza qualquer análise exploratória tendo a mesma como parâmentro, razão pela qual ela será despersada na fase de análise.\n",
        "\n",
        "**Variáveis Textuais:** as colunas 'url', 'title' e 'actor_url', estão tipadas como object, adequadas para pois seus valores são textuais. Observe-se que as variável **'url'** e **'actor_url'** por sua natureza, não se mostram úteis aos estudos exploratórios aqui pretendidos, posto que, como se verá, apesentam valores únicos sem possibilidade de ensejar informações relevantes no cruamento com outras variáveis.\n",
        "\n",
        "**REVISAR O TEXTO A PARTIR DAQUI**\n",
        "\n",
        "**Variáveis Textuais Complexas:** as colunas 'url', 'title' e 'actor_url', estão tipadas como object, adequadas para pois seus valores são textuais. Já as features **'synopsis'** e **'info'**, por apresentarem-se valores em forma de textos complexos, para serém proveitosamente manipuadas, deverão fornecer elementos para derivação de novas featues categóricas para fins de estabelecimentos de relações e correlações. Bem assim, as colunas **'actor_name'** e **'actor_char'**, que poderão ser manipuladas para criar novas colunas categóricas, como por exemplo,  nomes dos atores e diretores, uma vez que se tratarem de listas correspondentes, do tipo *'de, para'*, ou seja, nomes e funções dos casts dos filmes.\n",
        "\n",
        "Este processo de verificação e ajuste é fundamental para assegurar a precisão nas análises e na aplicação de métodos estatísticos e de machine learning ao dataset.\n"
      ],
      "metadata": {
        "id": "vo6A55inaSDK"
      }
    },
    {
      "cell_type": "markdown",
      "source": [
        "##3.\tAnálise Exploratória Inicial"
      ],
      "metadata": {
        "id": "1Tf2T0VGa6yf"
      }
    },
    {
      "cell_type": "code",
      "source": [
        "print(\"Análise da Coluna 'modality':\")\n",
        "print(\"Tipo:\", df_clean['modality'].dtype)\n",
        "print(\"Valores Únicos:\", df_clean['modality'].nunique())\n",
        "print(\"Distribuição:\", df_clean['modality'].value_counts())\n",
        "print(\"\\n\")\n",
        "\n",
        "# Dados da coluna 'modality'\n",
        "modalities = ['movies_at_home', 'movies_in_theaters']\n",
        "counts = [2572, 36]\n",
        "\n",
        "# Criando um gráfico de barras para a distribuição da coluna 'modality'\n",
        "plt.figure(figsize=(8, 5))\n",
        "plt.bar(modalities, counts, color=['blue', 'green'])\n",
        "plt.title('Distribuição da Modalidade dos Filmes')\n",
        "plt.xlabel('Modalidade')\n",
        "plt.ylabel('Contagem')\n",
        "plt.xticks(modalities)\n",
        "plt.show()"
      ],
      "metadata": {
        "colab": {
          "base_uri": "https://localhost:8080/",
          "height": 591
        },
        "id": "y_9n59Ypgzt6",
        "outputId": "daa4b381-650d-461f-c270-e53606ee8b5e"
      },
      "execution_count": null,
      "outputs": [
        {
          "output_type": "stream",
          "name": "stdout",
          "text": [
            "Análise da Coluna 'modality':\n",
            "Tipo: object\n",
            "Valores Únicos: 2\n",
            "Distribuição: movies_at_home        2572\n",
            "movies_in_theaters      36\n",
            "Name: modality, dtype: int64\n"
          ]
        },
        {
          "output_type": "display_data",
          "data": {
            "text/plain": [
              "<Figure size 800x500 with 1 Axes>"
            ],
            "image/png": "[encoded data removed]"
          },
          "metadata": {}
        }
      ]
    },
    {
      "cell_type": "code",
      "source": [
        "print(\"Análise da Coluna 'genre':\")\n",
        "print(\"Tipo:\", df_clean['genre'].dtype)\n",
        "print(\"Valores Únicos:\", df_clean['genre'].nunique())\n",
        "print(\"Distribuição:\", df_clean['genre'].value_counts())\n",
        "print(\"\\n\")\n",
        "\n"
      ],
      "metadata": {
        "colab": {
          "base_uri": "https://localhost:8080/"
        },
        "id": "GVqXg65apn3j",
        "outputId": "b110b7fc-c664-42f1-8a0a-f8970bd2f7e0"
      },
      "execution_count": null,
      "outputs": [
        {
          "output_type": "stream",
          "name": "stdout",
          "text": [
            "Análise da Coluna 'genre':\n",
            "Tipo: object\n",
            "Valores Únicos: 27\n",
            "Distribuição: action                  327\n",
            "documentary             266\n",
            "musical                 266\n",
            "romance                 240\n",
            "crime                   188\n",
            "holiday                 164\n",
            "horror                  163\n",
            "biography               146\n",
            "sci_fi                  141\n",
            "music                   115\n",
            "anime                    97\n",
            "mystery_and_thriller     75\n",
            "drama                    71\n",
            "lgbtq                    69\n",
            "adventure                68\n",
            "western                  66\n",
            "stand_up                 43\n",
            "history                  32\n",
            "war                      22\n",
            "comedy                   22\n",
            "sports                   13\n",
            "nature                    5\n",
            "special_interest          3\n",
            "short                     2\n",
            "variety                   2\n",
            "entertainment             1\n",
            "news                      1\n",
            "Name: genre, dtype: int64\n",
            "\n",
            "\n"
          ]
        }
      ]
    },
    {
      "cell_type": "code",
      "source": [
        "print(\"Análise da Coluna 'url':\")\n",
        "print(\"Tipo:\", df_clean['url'].dtype)\n",
        "print(\"Valores Únicos:\", df_clean['url'].nunique())\n",
        "print(\"\\n\")"
      ],
      "metadata": {
        "colab": {
          "base_uri": "https://localhost:8080/"
        },
        "id": "iH3gXUB7pp4I",
        "outputId": "39f978ae-ff2e-422a-a7a8-e54c069c0ae6"
      },
      "execution_count": null,
      "outputs": [
        {
          "output_type": "stream",
          "name": "stdout",
          "text": [
            "Análise da Coluna 'url':\n",
            "Tipo: object\n",
            "Valores Únicos: 2608\n",
            "\n",
            "\n"
          ]
        }
      ]
    },
    {
      "cell_type": "code",
      "source": [
        "print(\"Análise da Coluna 'mined':\")\n",
        "print(\"Tipo:\", df_clean['mined'].dtype)\n",
        "print(\"Valores Únicos:\", df_clean['mined'].nunique())\n",
        "print(\"Distribuição:\", df_clean['mined'].value_counts())\n",
        "print(\"\\n\")\n"
      ],
      "metadata": {
        "colab": {
          "base_uri": "https://localhost:8080/"
        },
        "id": "RiSpPNrFppu-",
        "outputId": "0e6afff3-7706-4c95-fc3f-c4cfbe3624bb"
      },
      "execution_count": null,
      "outputs": [
        {
          "output_type": "stream",
          "name": "stdout",
          "text": [
            "Análise da Coluna 'mined':\n",
            "Tipo: object\n",
            "Valores Únicos: 1\n",
            "Distribuição: T    2608\n",
            "Name: mined, dtype: int64\n",
            "\n",
            "\n"
          ]
        }
      ]
    },
    {
      "cell_type": "code",
      "source": [
        "print(\"Análise da Coluna 'title':\")\n",
        "print(\"Tipo:\", df_clean['title'].dtype)\n",
        "print(\"Valores Únicos:\", df_clean['title'].nunique())\n",
        "#print(\"Distribuição:\", df_clean['title'].value_counts().head(10))  # Top 10 títulos mais comuns\n",
        "print(\"\\n\")\n"
      ],
      "metadata": {
        "colab": {
          "base_uri": "https://localhost:8080/"
        },
        "id": "4HhDFsD0pvsy",
        "outputId": "e9796f15-9eb9-4d0c-987f-50e2860ae421"
      },
      "execution_count": null,
      "outputs": [
        {
          "output_type": "stream",
          "name": "stdout",
          "text": [
            "Análise da Coluna 'title':\n",
            "Tipo: object\n",
            "Valores Únicos: 2608\n",
            "\n",
            "\n"
          ]
        }
      ]
    },
    {
      "cell_type": "code",
      "source": [
        "print(\"Análise da Coluna 'tomatometerscore':\")\n",
        "print(\"Tipo:\", df_clean['tomatometerscore'].dtype)\n",
        "print(\"Estatísticas Descritivas:\", df_clean['tomatometerscore'].describe())\n",
        "print(\"Histograma:\")\n",
        "# analisar qual o melhor plot para análise desses dados.\n",
        "#df_clean['tomatometerscore'].hist()\n",
        "print(\"\\n\")"
      ],
      "metadata": {
        "colab": {
          "base_uri": "https://localhost:8080/"
        },
        "id": "6OtLBvaMpzYM",
        "outputId": "3bebf056-7fc7-4fd6-a014-dd218c3e46ce"
      },
      "execution_count": null,
      "outputs": [
        {
          "output_type": "stream",
          "name": "stdout",
          "text": [
            "Análise da Coluna 'tomatometerscore':\n",
            "Tipo: float64\n",
            "Estatísticas Descritivas: count    2608.000000\n",
            "mean       72.190567\n",
            "std        24.981484\n",
            "min         2.000000\n",
            "25%        57.000000\n",
            "50%        80.000000\n",
            "75%        92.000000\n",
            "max       100.000000\n",
            "Name: tomatometerscore, dtype: float64\n",
            "Histograma:\n",
            "\n",
            "\n"
          ]
        }
      ]
    },
    {
      "cell_type": "code",
      "source": [
        "print(\"Análise da Coluna 'tomatometerstate':\")\n",
        "print(\"Tipo:\", df_clean['tomatometerstate'].dtype)\n",
        "print(\"Valores Únicos:\", df_clean['tomatometerstate'].nunique())\n",
        "print(\"Distribuição:\", df_clean['tomatometerstate'].value_counts())\n",
        "print(\"\\n\")"
      ],
      "metadata": {
        "colab": {
          "base_uri": "https://localhost:8080/"
        },
        "id": "LkW8KtRWp1d4",
        "outputId": "a457a4b8-4141-4f60-eec7-174d0c63cb97"
      },
      "execution_count": null,
      "outputs": [
        {
          "output_type": "stream",
          "name": "stdout",
          "text": [
            "Análise da Coluna 'tomatometerstate':\n",
            "Tipo: object\n",
            "Valores Únicos: 3\n",
            "Distribuição: certified-fresh    1161\n",
            "fresh               751\n",
            "rotten              696\n",
            "Name: tomatometerstate, dtype: int64\n",
            "\n",
            "\n"
          ]
        }
      ]
    },
    {
      "cell_type": "code",
      "source": [
        "print(\"Análise da Coluna 'audiencescore':\")\n",
        "print(\"Tipo:\", df_clean['audiencescore'].dtype)\n",
        "print(\"Estatísticas Descritivas:\", df_clean['audiencescore'].describe())\n",
        "print(\"Histograma:\")\n",
        "# analisar qual o melhor plot para análise desses dados.\n",
        "#df_clean['audiencescore'].hist()\n",
        "print(\"\\n\")\n"
      ],
      "metadata": {
        "colab": {
          "base_uri": "https://localhost:8080/"
        },
        "id": "IE5W_wOap4v8",
        "outputId": "c4fa5b2e-5cad-4fb8-e573-007c70cf0cfc"
      },
      "execution_count": null,
      "outputs": [
        {
          "output_type": "stream",
          "name": "stdout",
          "text": [
            "Análise da Coluna 'audiencescore':\n",
            "Tipo: float64\n",
            "Estatísticas Descritivas: count    2608.000000\n",
            "mean       72.076304\n",
            "std        18.398310\n",
            "min         2.000000\n",
            "25%        61.000000\n",
            "50%        76.000000\n",
            "75%        87.000000\n",
            "max       100.000000\n",
            "Name: audiencescore, dtype: float64\n",
            "Histograma:\n",
            "\n",
            "\n"
          ]
        }
      ]
    },
    {
      "cell_type": "code",
      "source": [
        "print(\"Análise da Coluna 'audiencestate':\")\n",
        "print(\"Tipo:\", df_clean['audiencestate'].dtype)\n",
        "print(\"Valores Únicos:\", df_clean['audiencestate'].nunique())\n",
        "print(\"Distribuição:\", df_clean['audiencestate'].value_counts())\n",
        "print(\"\\n\")\n"
      ],
      "metadata": {
        "colab": {
          "base_uri": "https://localhost:8080/"
        },
        "id": "Ypp6-fzKp7je",
        "outputId": "e174a536-4e02-4775-ea58-95cd1528d58d"
      },
      "execution_count": null,
      "outputs": [
        {
          "output_type": "stream",
          "name": "stdout",
          "text": [
            "Análise da Coluna 'audiencestate':\n",
            "Tipo: object\n",
            "Valores Únicos: 2\n",
            "Distribuição: upright    2010\n",
            "spilled     598\n",
            "Name: audiencestate, dtype: int64\n",
            "\n",
            "\n"
          ]
        }
      ]
    },
    {
      "cell_type": "code",
      "source": [
        "print(\"Análise da Coluna 'synopsis':\")\n",
        "print(\"Tipo:\", df_clean['synopsis'].dtype)\n",
        "\n",
        "print(\"\\n\")\n"
      ],
      "metadata": {
        "colab": {
          "base_uri": "https://localhost:8080/"
        },
        "id": "MuomcXARp_LQ",
        "outputId": "30a9c041-f64b-4b07-bf5c-3b9fbd04573d"
      },
      "execution_count": null,
      "outputs": [
        {
          "output_type": "stream",
          "name": "stdout",
          "text": [
            "Análise da Coluna 'synopsis':\n",
            "Tipo: object\n",
            "\n",
            "\n"
          ]
        }
      ]
    },
    {
      "cell_type": "code",
      "source": [
        "print(\"Análise da Coluna 'info':\")\n",
        "print(\"Tipo:\", df_clean['info'].dtype)\n",
        "# Aqui é preciso adicionar uma análise de texto mais detalhada.\n",
        "print(\"\\n\")\n"
      ],
      "metadata": {
        "colab": {
          "base_uri": "https://localhost:8080/"
        },
        "id": "-dmjJJEMqC09",
        "outputId": "3761f3f3-d9fc-4fd0-8678-7466dd024f4d"
      },
      "execution_count": null,
      "outputs": [
        {
          "output_type": "stream",
          "name": "stdout",
          "text": [
            "Análise da Coluna 'info':\n",
            "Tipo: object\n",
            "\n",
            "\n"
          ]
        }
      ]
    },
    {
      "cell_type": "code",
      "source": [
        "print(\"Análise da Coluna 'actor_url':\")\n",
        "print(\"Tipo:\", df_clean['actor_url'].dtype)\n",
        "print(\"Valores Únicos:\", df_clean['actor_url'].nunique())\n",
        "print(\"\\n\")"
      ],
      "metadata": {
        "colab": {
          "base_uri": "https://localhost:8080/"
        },
        "id": "EtDPwT8dqF6l",
        "outputId": "3e4e1895-c916-4367-a38d-ac27fc42b488"
      },
      "execution_count": null,
      "outputs": [
        {
          "output_type": "stream",
          "name": "stdout",
          "text": [
            "Análise da Coluna 'actor_url':\n",
            "Tipo: object\n",
            "Valores Únicos: 2607\n",
            "\n",
            "\n"
          ]
        }
      ]
    },
    {
      "cell_type": "code",
      "source": [
        "print(\"Análise da Coluna 'actor_name':\")\n",
        "print(\"Tipo:\", df_clean['actor_name'].dtype)\n",
        "print(\"Valores Únicos:\", df_clean['actor_name'].nunique())\n",
        "print(\"\\n\")\n",
        "\n",
        "#Extrair daqui a lista de atores principais e diretores para correlacionar."
      ],
      "metadata": {
        "colab": {
          "base_uri": "https://localhost:8080/"
        },
        "id": "lvFuuRZkqI6F",
        "outputId": "ba4b2412-cd48-48f8-e710-6c92e45ae8e6"
      },
      "execution_count": null,
      "outputs": [
        {
          "output_type": "stream",
          "name": "stdout",
          "text": [
            "Análise da Coluna 'actor_name':\n",
            "Tipo: object\n",
            "Valores Únicos: 2607\n",
            "\n",
            "\n"
          ]
        }
      ]
    },
    {
      "cell_type": "code",
      "source": [
        "print(\"Análise da Coluna 'actor_char':\")\n",
        "print(\"Tipo:\", df_clean['actor_char'].dtype)\n",
        "print(\"Valores Únicos:\", df_clean['actor_char'].nunique())\n",
        "print(\"\\n\")"
      ],
      "metadata": {
        "colab": {
          "base_uri": "https://localhost:8080/"
        },
        "id": "b-KGMcPkqLdE",
        "outputId": "79980826-caf1-4acf-d1a7-8721cbf73da9"
      },
      "execution_count": null,
      "outputs": [
        {
          "output_type": "stream",
          "name": "stdout",
          "text": [
            "Análise da Coluna 'actor_char':\n",
            "Tipo: object\n",
            "Valores Únicos: 2578\n",
            "\n",
            "\n"
          ]
        }
      ]
    },
    {
      "cell_type": "markdown",
      "source": [
        "###3.1.\tEstatísticas Descritivas e Visualizações Iniciais:\n",
        "\n",
        "3.1.1.\tApresentar estatísticas descritivas e gráficos correspondentes.\n"
      ],
      "metadata": {
        "id": "vIh6Z5WBbL8m"
      }
    },
    {
      "cell_type": "code",
      "source": [
        "#Isso incluirá contagem, média, desvio padrão, mínimo, máximo, e os quartis.\n",
        "df_clean.describe()"
      ],
      "metadata": {
        "colab": {
          "base_uri": "https://localhost:8080/",
          "height": 300
        },
        "id": "LtT-wahDkAmq",
        "outputId": "fcc90667-98df-4350-ba0a-302393e684d4"
      },
      "execution_count": null,
      "outputs": [
        {
          "output_type": "execute_result",
          "data": {
            "text/plain": [
              "       tomatometerscore  audiencescore\n",
              "count       2608.000000    2608.000000\n",
              "mean          72.190567      72.076304\n",
              "std           24.981484      18.398310\n",
              "min            2.000000       2.000000\n",
              "25%           57.000000      61.000000\n",
              "50%           80.000000      76.000000\n",
              "75%           92.000000      87.000000\n",
              "max          100.000000     100.000000"
            ],
            "text/html": [
              "\n",
              "  <div id=\"df-cdc8a43f-6d88-4487-b7e2-7bc41fa0989e\" class=\"colab-df-container\">\n",
              "    <div>\n",
              "<style scoped>\n",
              "    .dataframe tbody tr th:only-of-type {\n",
              "        vertical-align: middle;\n",
              "    }\n",
              "\n",
              "    .dataframe tbody tr th {\n",
              "        vertical-align: top;\n",
              "    }\n",
              "\n",
              "    .dataframe thead th {\n",
              "        text-align: right;\n",
              "    }\n",
              "</style>\n",
              "<table border=\"1\" class=\"dataframe\">\n",
              "  <thead>\n",
              "    <tr style=\"text-align: right;\">\n",
              "      <th></th>\n",
              "      <th>tomatometerscore</th>\n",
              "      <th>audiencescore</th>\n",
              "    </tr>\n",
              "  </thead>\n",
              "  <tbody>\n",
              "    <tr>\n",
              "      <th>count</th>\n",
              "      <td>2608.000000</td>\n",
              "      <td>2608.000000</td>\n",
              "    </tr>\n",
              "    <tr>\n",
              "      <th>mean</th>\n",
              "      <td>72.190567</td>\n",
              "      <td>72.076304</td>\n",
              "    </tr>\n",
              "    <tr>\n",
              "      <th>std</th>\n",
              "      <td>24.981484</td>\n",
              "      <td>18.398310</td>\n",
              "    </tr>\n",
              "    <tr>\n",
              "      <th>min</th>\n",
              "      <td>2.000000</td>\n",
              "      <td>2.000000</td>\n",
              "    </tr>\n",
              "    <tr>\n",
              "      <th>25%</th>\n",
              "      <td>57.000000</td>\n",
              "      <td>61.000000</td>\n",
              "    </tr>\n",
              "    <tr>\n",
              "      <th>50%</th>\n",
              "      <td>80.000000</td>\n",
              "      <td>76.000000</td>\n",
              "    </tr>\n",
              "    <tr>\n",
              "      <th>75%</th>\n",
              "      <td>92.000000</td>\n",
              "      <td>87.000000</td>\n",
              "    </tr>\n",
              "    <tr>\n",
              "      <th>max</th>\n",
              "      <td>100.000000</td>\n",
              "      <td>100.000000</td>\n",
              "    </tr>\n",
              "  </tbody>\n",
              "</table>\n",
              "</div>\n",
              "    <div class=\"colab-df-buttons\">\n",
              "\n",
              "  <div class=\"colab-df-container\">\n",
              "    <button class=\"colab-df-convert\" onclick=\"convertToInteractive('df-cdc8a43f-6d88-4487-b7e2-7bc41fa0989e')\"\n",
              "            title=\"Convert this dataframe to an interactive table.\"\n",
              "            style=\"display:none;\">\n",
              "\n",
              "  <svg xmlns=\"http://www.w3.org/2000/svg\" height=\"24px\" viewBox=\"0 -960 960 960\">\n",
              "    <path d=\"M120-120v-720h720v720H120Zm60-500h600v-160H180v160Zm220 220h160v-160H400v160Zm0 220h160v-160H400v160ZM180-400h160v-160H180v160Zm440 0h160v-160H620v160ZM180-180h160v-160H180v160Zm440 0h160v-160H620v160Z\"/>\n",
              "  </svg>\n",
              "    </button>\n",
              "\n",
              "  <style>\n",
              "    .colab-df-container {\n",
              "      display:flex;\n",
              "      gap: 12px;\n",
              "    }\n",
              "\n",
              "    .colab-df-convert {\n",
              "      background-color: #E8F0FE;\n",
              "      border: none;\n",
              "      border-radius: 50%;\n",
              "      cursor: pointer;\n",
              "      display: none;\n",
              "      fill: #1967D2;\n",
              "      height: 32px;\n",
              "      padding: 0 0 0 0;\n",
              "      width: 32px;\n",
              "    }\n",
              "\n",
              "    .colab-df-convert:hover {\n",
              "      background-color: #E2EBFA;\n",
              "      box-shadow: 0px 1px 2px rgba(60, 64, 67, 0.3), 0px 1px 3px 1px rgba(60, 64, 67, 0.15);\n",
              "      fill: #174EA6;\n",
              "    }\n",
              "\n",
              "    .colab-df-buttons div {\n",
              "      margin-bottom: 4px;\n",
              "    }\n",
              "\n",
              "    [theme=dark] .colab-df-convert {\n",
              "      background-color: #3B4455;\n",
              "      fill: #D2E3FC;\n",
              "    }\n",
              "\n",
              "    [theme=dark] .colab-df-convert:hover {\n",
              "      background-color: #434B5C;\n",
              "      box-shadow: 0px 1px 3px 1px rgba(0, 0, 0, 0.15);\n",
              "      filter: drop-shadow(0px 1px 2px rgba(0, 0, 0, 0.3));\n",
              "      fill: #FFFFFF;\n",
              "    }\n",
              "  </style>\n",
              "\n",
              "    <script>\n",
              "      const buttonEl =\n",
              "        document.querySelector('#df-cdc8a43f-6d88-4487-b7e2-7bc41fa0989e button.colab-df-convert');\n",
              "      buttonEl.style.display =\n",
              "        google.colab.kernel.accessAllowed ? 'block' : 'none';\n",
              "\n",
              "      async function convertToInteractive(key) {\n",
              "        const element = document.querySelector('#df-cdc8a43f-6d88-4487-b7e2-7bc41fa0989e');\n",
              "        const dataTable =\n",
              "          await google.colab.kernel.invokeFunction('convertToInteractive',\n",
              "                                                    [key], {});\n",
              "        if (!dataTable) return;\n",
              "\n",
              "        const docLinkHtml = 'Like what you see? Visit the ' +\n",
              "          '<a target=\"_blank\" href=https://colab.research.google.com/notebooks/data_table.ipynb>data table notebook</a>'\n",
              "          + ' to learn more about interactive tables.';\n",
              "        element.innerHTML = '';\n",
              "        dataTable['output_type'] = 'display_data';\n",
              "        await google.colab.output.renderOutput(dataTable, element);\n",
              "        const docLink = document.createElement('div');\n",
              "        docLink.innerHTML = docLinkHtml;\n",
              "        element.appendChild(docLink);\n",
              "      }\n",
              "    </script>\n",
              "  </div>\n",
              "\n",
              "\n",
              "<div id=\"df-baf31118-0537-4921-8a9a-17d55338ae6e\">\n",
              "  <button class=\"colab-df-quickchart\" onclick=\"quickchart('df-baf31118-0537-4921-8a9a-17d55338ae6e')\"\n",
              "            title=\"Suggest charts\"\n",
              "            style=\"display:none;\">\n",
              "\n",
              "<svg xmlns=\"http://www.w3.org/2000/svg\" height=\"24px\"viewBox=\"0 0 24 24\"\n",
              "     width=\"24px\">\n",
              "    <g>\n",
              "        <path d=\"M19 3H5c-1.1 0-2 .9-2 2v14c0 1.1.9 2 2 2h14c1.1 0 2-.9 2-2V5c0-1.1-.9-2-2-2zM9 17H7v-7h2v7zm4 0h-2V7h2v10zm4 0h-2v-4h2v4z\"/>\n",
              "    </g>\n",
              "</svg>\n",
              "  </button>\n",
              "\n",
              "<style>\n",
              "  .colab-df-quickchart {\n",
              "      --bg-color: #E8F0FE;\n",
              "      --fill-color: #1967D2;\n",
              "      --hover-bg-color: #E2EBFA;\n",
              "      --hover-fill-color: #174EA6;\n",
              "      --disabled-fill-color: #AAA;\n",
              "      --disabled-bg-color: #DDD;\n",
              "  }\n",
              "\n",
              "  [theme=dark] .colab-df-quickchart {\n",
              "      --bg-color: #3B4455;\n",
              "      --fill-color: #D2E3FC;\n",
              "      --hover-bg-color: #434B5C;\n",
              "      --hover-fill-color: #FFFFFF;\n",
              "      --disabled-bg-color: #3B4455;\n",
              "      --disabled-fill-color: #666;\n",
              "  }\n",
              "\n",
              "  .colab-df-quickchart {\n",
              "    background-color: var(--bg-color);\n",
              "    border: none;\n",
              "    border-radius: 50%;\n",
              "    cursor: pointer;\n",
              "    display: none;\n",
              "    fill: var(--fill-color);\n",
              "    height: 32px;\n",
              "    padding: 0;\n",
              "    width: 32px;\n",
              "  }\n",
              "\n",
              "  .colab-df-quickchart:hover {\n",
              "    background-color: var(--hover-bg-color);\n",
              "    box-shadow: 0 1px 2px rgba(60, 64, 67, 0.3), 0 1px 3px 1px rgba(60, 64, 67, 0.15);\n",
              "    fill: var(--button-hover-fill-color);\n",
              "  }\n",
              "\n",
              "  .colab-df-quickchart-complete:disabled,\n",
              "  .colab-df-quickchart-complete:disabled:hover {\n",
              "    background-color: var(--disabled-bg-color);\n",
              "    fill: var(--disabled-fill-color);\n",
              "    box-shadow: none;\n",
              "  }\n",
              "\n",
              "  .colab-df-spinner {\n",
              "    border: 2px solid var(--fill-color);\n",
              "    border-color: transparent;\n",
              "    border-bottom-color: var(--fill-color);\n",
              "    animation:\n",
              "      spin 1s steps(1) infinite;\n",
              "  }\n",
              "\n",
              "  @keyframes spin {\n",
              "    0% {\n",
              "      border-color: transparent;\n",
              "      border-bottom-color: var(--fill-color);\n",
              "      border-left-color: var(--fill-color);\n",
              "    }\n",
              "    20% {\n",
              "      border-color: transparent;\n",
              "      border-left-color: var(--fill-color);\n",
              "      border-top-color: var(--fill-color);\n",
              "    }\n",
              "    30% {\n",
              "      border-color: transparent;\n",
              "      border-left-color: var(--fill-color);\n",
              "      border-top-color: var(--fill-color);\n",
              "      border-right-color: var(--fill-color);\n",
              "    }\n",
              "    40% {\n",
              "      border-color: transparent;\n",
              "      border-right-color: var(--fill-color);\n",
              "      border-top-color: var(--fill-color);\n",
              "    }\n",
              "    60% {\n",
              "      border-color: transparent;\n",
              "      border-right-color: var(--fill-color);\n",
              "    }\n",
              "    80% {\n",
              "      border-color: transparent;\n",
              "      border-right-color: var(--fill-color);\n",
              "      border-bottom-color: var(--fill-color);\n",
              "    }\n",
              "    90% {\n",
              "      border-color: transparent;\n",
              "      border-bottom-color: var(--fill-color);\n",
              "    }\n",
              "  }\n",
              "</style>\n",
              "\n",
              "  <script>\n",
              "    async function quickchart(key) {\n",
              "      const quickchartButtonEl =\n",
              "        document.querySelector('#' + key + ' button');\n",
              "      quickchartButtonEl.disabled = true;  // To prevent multiple clicks.\n",
              "      quickchartButtonEl.classList.add('colab-df-spinner');\n",
              "      try {\n",
              "        const charts = await google.colab.kernel.invokeFunction(\n",
              "            'suggestCharts', [key], {});\n",
              "      } catch (error) {\n",
              "        console.error('Error during call to suggestCharts:', error);\n",
              "      }\n",
              "      quickchartButtonEl.classList.remove('colab-df-spinner');\n",
              "      quickchartButtonEl.classList.add('colab-df-quickchart-complete');\n",
              "    }\n",
              "    (() => {\n",
              "      let quickchartButtonEl =\n",
              "        document.querySelector('#df-baf31118-0537-4921-8a9a-17d55338ae6e button');\n",
              "      quickchartButtonEl.style.display =\n",
              "        google.colab.kernel.accessAllowed ? 'block' : 'none';\n",
              "    })();\n",
              "  </script>\n",
              "</div>\n",
              "    </div>\n",
              "  </div>\n"
            ]
          },
          "metadata": {},
          "execution_count": 90
        }
      ]
    },
    {
      "cell_type": "markdown",
      "source": [
        "**Estatística descritiva:**\n",
        "\n",
        "Após a limpeza, o número de entradas (filmes) reduziu para 2.608. Isso indica que uma quantidade significativa de dados foi removida devido a duplicatas ou valores ausentes.\n",
        "\n",
        "Distribuição das Pontuações:\n",
        "\n",
        "As médias das pontuações do Tomatometer (tomatometerscore) e da audiência (audiencescore) são muito próximas, aproximadamente 72.19 e 72.08, respectivamente. Isso sugere uma concordância geral entre as avaliações dos críticos e do público.\n",
        "\n",
        "Variação das Pontuações:\n",
        "\n",
        "O desvio padrão para tomatometerscore é de aproximadamente 24.98 e para audiencescore é de cerca de 18.40. Esses valores indicam uma variação considerável nas pontuações, especialmente entre os críticos (tomatometerscore), sugerindo uma diversidade de opiniões.\n",
        "\n",
        "Faixa de Pontuação:\n",
        "\n",
        "Ambas as pontuações variam de 2 a 100, mostrando que o conjunto de dados inclui filmes com uma ampla gama de avaliações, desde muito mal avaliados até altamente aclamados.\n",
        "\n",
        "Quartis:\n",
        "\n",
        "Observando os quartis, você pode ver que 25% dos filmes têm uma pontuação do Tomatometer inferior a 57 e uma pontuação da audiência inferior a 61.\n",
        "\n",
        "A mediana (50% quartil) para tomatometerscore é 80 e para audiencescore é 76, indicando que metade dos filmes tem uma pontuação acima desses valores.\n",
        "\n",
        "75% dos filmes têm uma pontuação do Tomatometer inferior a 92 e uma pontuação da audiência inferior a 87.\n",
        "\n",
        "Insights:\n",
        "\n",
        "Concordância entre Críticos e Público => A proximidade das médias sugere que, em geral, críticos e público tendem a concordar sobre a qualidade dos filmes.\n",
        "\n",
        "Diversidade de Opiniões entre Críticos => A maior variação nas pontuações dos críticos pode indicar uma maior diversidade de opiniões entre eles em comparação com o público.\n",
        "\n",
        "Filmes com Avaliações Extremas => A presença de filmes com pontuações muito baixas e muito altas pode indicar a inclusão de filmes controversos ou de nicho, além de sucessos de crítica e público.\n"
      ],
      "metadata": {
        "id": "6PQRzJIzBmJH"
      }
    },
    {
      "cell_type": "code",
      "source": [
        "# para códigos de plotagem"
      ],
      "metadata": {
        "id": "OnpnuPCDcDOs"
      },
      "execution_count": null,
      "outputs": []
    },
    {
      "cell_type": "markdown",
      "source": [
        "##3.2.\tExploração de Variáveis Categóricas e Textuais:\n",
        "\n",
        "3.2.1.\tAnalisar categorias e realizar análise de texto, com visualizações correspondentes.\n"
      ],
      "metadata": {
        "id": "xG55pi9UbOUH"
      }
    },
    {
      "cell_type": "code",
      "source": [
        "# célula para códigos de de análise"
      ],
      "metadata": {
        "id": "6nmOpvmPbUpP"
      },
      "execution_count": null,
      "outputs": []
    },
    {
      "cell_type": "code",
      "source": [
        "# célula para códigos de plotagem"
      ],
      "metadata": {
        "id": "hwLA5K7VcMV9"
      },
      "execution_count": null,
      "outputs": []
    },
    {
      "cell_type": "markdown",
      "source": [
        "##3.3.\tAnálise de Distribuição com Visualizações:\n",
        "\n",
        "3.3.1.\tHistogramas, gráficos de barras e boxplots para variáveis numéricas e categóricas, apresentados imediatamente após a análise.\n"
      ],
      "metadata": {
        "id": "A0KWnfGWbQDv"
      }
    },
    {
      "cell_type": "code",
      "source": [
        "# célula para códigos de de análise"
      ],
      "metadata": {
        "id": "_gE4AXBRbV8w"
      },
      "execution_count": null,
      "outputs": []
    },
    {
      "cell_type": "code",
      "source": [
        "# célula para códigos de plotagem"
      ],
      "metadata": {
        "id": "dmnPjqFHcOVI"
      },
      "execution_count": null,
      "outputs": []
    },
    {
      "cell_type": "markdown",
      "source": [
        "## 4.\tVisualização de Dados e Análise de Relações\n"
      ],
      "metadata": {
        "id": "_ySV6FzAY6ek"
      }
    },
    {
      "cell_type": "markdown",
      "source": [
        "##4.1.\tCriação de Novas Colunas a partir de Dados Categóricos Estruturados:\n",
        "\n",
        "4.1.1.\tExtrair novos valores das colunas 'synopsis', 'info', 'actor_url', 'actor_name', 'actor_char' que possam ter relação com os escores."
      ],
      "metadata": {
        "id": "4QjStjsLXvF-"
      }
    },
    {
      "cell_type": "markdown",
      "source": [
        "### 4.2.\tGráficos de Dispersão e Heatmaps de Correlação:\n",
        "\n",
        "4.2.1.\tUtilizar gráficos de dispersão para explorar relações entre variáveis numéricas e heatmaps para visualizar correlações.\n",
        "\n"
      ],
      "metadata": {
        "id": "m7erS-EKc_nM"
      }
    },
    {
      "cell_type": "code",
      "source": [],
      "metadata": {
        "id": "jug5R3LvdAbi"
      },
      "execution_count": null,
      "outputs": []
    },
    {
      "cell_type": "code",
      "source": [],
      "metadata": {
        "id": "mDwB1s9OdBBy"
      },
      "execution_count": null,
      "outputs": []
    },
    {
      "cell_type": "markdown",
      "source": [
        "### 4.3.\tAgrupamento e Análise por Subconjuntos:\n",
        "\n",
        "4.3.1.\tAnálise de subconjuntos de dados com visualizações específicas para cada agrupamento.\n"
      ],
      "metadata": {
        "id": "-rH-2P-_dHiw"
      }
    },
    {
      "cell_type": "code",
      "source": [],
      "metadata": {
        "id": "g7uE_F8edCOh"
      },
      "execution_count": null,
      "outputs": []
    },
    {
      "cell_type": "code",
      "source": [],
      "metadata": {
        "id": "GnfvD8DqdCCM"
      },
      "execution_count": null,
      "outputs": []
    },
    {
      "cell_type": "markdown",
      "source": [],
      "metadata": {
        "id": "mYhkdBNTdBom"
      }
    },
    {
      "cell_type": "markdown",
      "source": [
        "##5.\tAnálise de Correlação\n",
        "\n",
        "5.1.\tCorrelação Detalhada entre Variáveis:\n",
        "\n",
        "5.1.1.\tFocar em identificar e interpretar correlações entre 'tomatometerscore', 'audiencescore' e novas variáveis derivadas."
      ],
      "metadata": {
        "id": "tdO0tmCFY-sh"
      }
    },
    {
      "cell_type": "markdown",
      "source": [
        "##6.\tConclusões e Próximos Passos\n",
        "\n",
        "6.1.\tInterpretação Integrada dos Resultados:\n",
        "\n",
        "6.1.1.\tCombinar insights de todas as etapas para formular conclusões abrangentes.\n",
        "\n",
        "6.2.\tLimitações e Sugestões para Futuras Análises:\n",
        "\n",
        "6.2.1.\tDiscutir limitações da análise atual e propor direções para futuras pesquisas.\n"
      ],
      "metadata": {
        "id": "zGuATLP9ZBuH"
      }
    }
  ]
}